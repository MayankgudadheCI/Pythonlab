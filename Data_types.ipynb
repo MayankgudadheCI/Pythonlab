{
  "nbformat": 4,
  "nbformat_minor": 0,
  "metadata": {
    "colab": {
      "name": "Data types.ipynb",
      "provenance": []
    },
    "kernelspec": {
      "name": "python3",
      "display_name": "Python 3"
    },
    "language_info": {
      "name": "python"
    }
  },
  "cells": [
    {
      "cell_type": "code",
      "execution_count": 7,
      "metadata": {
        "colab": {
          "base_uri": "https://localhost:8080/"
        },
        "id": "fltSQ9hXL1G2",
        "outputId": "c3fb20ef-9068-4189-d2d3-392ddb2db9d1"
      },
      "outputs": [
        {
          "output_type": "stream",
          "name": "stdout",
          "text": [
            "<class 'tuple'>\n",
            "<class 'str'>\n",
            "<class 'list'>\n",
            "<class 'bool'>\n",
            "<class 'str'>\n",
            "<class 'dict'>\n"
          ]
        }
      ],
      "source": [
        "i=(1,2,3,4,5)\n",
        "print(type(i))\n",
        "m=\"Mayank\"\n",
        "print(type(m))\n",
        "m=['mayank',1,2,3,4,5,6]\n",
        "print(type(m))\n",
        "m=True\n",
        "print(type(m))\n",
        "m=\"1,2,3,4\"\n",
        "print(type(m))\n",
        "m={\n",
        "    \"mayank\":\"gudadhe\",\n",
        "    \"branch\":\"csit\"\n",
        "}\n",
        "print(type(m))"
      ]
    }
  ]
}